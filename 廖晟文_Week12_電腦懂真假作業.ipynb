{
  "nbformat": 4,
  "nbformat_minor": 0,
  "metadata": {
    "kernelspec": {
      "display_name": "Python 3",
      "language": "python",
      "name": "python3"
    },
    "language_info": {
      "codemirror_mode": {
        "name": "ipython",
        "version": 3
      },
      "file_extension": ".py",
      "mimetype": "text/x-python",
      "name": "python",
      "nbconvert_exporter": "python",
      "pygments_lexer": "ipython3",
      "version": "3.8.5"
    },
    "colab": {
      "name": "廖晟文- Week12 - 電腦懂真假作業.ipynb",
      "provenance": [],
      "include_colab_link": true
    }
  },
  "cells": [
    {
      "cell_type": "markdown",
      "metadata": {
        "id": "view-in-github",
        "colab_type": "text"
      },
      "source": [
        "<a href=\"https://colab.research.google.com/github/A109010073/Computational-Thinking-and-Program-Design/blob/main/%E5%BB%96%E6%99%9F%E6%96%87_Week12_%E9%9B%BB%E8%85%A6%E6%87%82%E7%9C%9F%E5%81%87%E4%BD%9C%E6%A5%AD.ipynb\" target=\"_parent\"><img src=\"https://colab.research.google.com/assets/colab-badge.svg\" alt=\"Open In Colab\"/></a>"
      ]
    },
    {
      "cell_type": "markdown",
      "metadata": {
        "id": "nXDChyck1CxI"
      },
      "source": [
        "## 1. 布林值\n",
        "\n",
        "### 1-1 真值與假值"
      ]
    },
    {
      "cell_type": "code",
      "metadata": {
        "id": "hrXA7kBs1CxR"
      },
      "source": [
        "In [1]: ## 布林只有 True 與 False 這兩個值。\n",
        "   ...: True\n",
        "   ...: False\n",
        "    \n",
        "In [2]: ## 請注意大小寫不同\n",
        "   ...: true\n",
        "   ...: false\n",
        "   ...: TRUE\n",
        "   ...: FALSE\n",
        "Traceback (most recent call last):\n",
        "\n",
        "  File \"<ipython-input-2-7729cf8819e0>\", line 6, in <module>\n",
        "    true\n",
        "\n",
        "NameError: name 'true' is not defined\n",
        "\n",
        "In [3]: ## 查看資料的種類\n",
        "   ...: type(True)\n",
        "   ...: type(False)\n",
        "bool\n",
        "bool"
      ],
      "execution_count": null,
      "outputs": []
    },
    {
      "cell_type": "code",
      "metadata": {
        "id": "UGfDxYU94oTf"
      },
      "source": [
        "In [1]: ## 布林只有 True 與 False 這兩個值。\n",
        "   ...: True\n",
        "   ...: False\n",
        "    \n",
        "In [2]: ## 請注意大小寫不同\n",
        "   ...: true\n",
        "   ...: false\n",
        "   ...: TRUE\n",
        "   ...: FALSE\n",
        "Traceback (most recent call last):\n",
        "\n",
        "  File \"<ipython-input-2-7729cf8819e0>\", line 6, in <module>\n",
        "    true\n",
        "\n",
        "NameError: name 'true' is not defined\n",
        "\n",
        "In [3]: ## 查看資料的種類\n",
        "   ...: type(True)\n",
        "   ...: type(False)\n",
        "bool\n",
        "bool"
      ],
      "execution_count": null,
      "outputs": []
    },
    {
      "cell_type": "markdown",
      "metadata": {
        "id": "4KQo81JX1CxT"
      },
      "source": [
        "### 1-2 建立布林值與數學運算\n",
        "\n",
        "#### 建立布林值"
      ]
    },
    {
      "cell_type": "code",
      "metadata": {
        "id": "UxzJcxZB1CxT"
      },
      "source": [
        "In [1]: ## 方法（一）：直接鍵入True或False\n",
        "   ...: True\n",
        "   ...: False\n",
        "True\n",
        "False\n",
        "\n",
        "In [2]: ## 方法（二）：用bool()函式建立。\n",
        "   ...: bool(1)\n",
        "   ...: bool(0)\n",
        "True\n",
        "False"
      ],
      "execution_count": null,
      "outputs": []
    },
    {
      "cell_type": "code",
      "metadata": {
        "id": "pmY2E27h1CxU",
        "colab": {
          "base_uri": "https://localhost:8080/"
        },
        "outputId": "da1c213b-3380-460d-ba65-5f1e21db214c"
      },
      "source": [
        "In [1]: ## 方法（一）：直接鍵入True或False\n",
        "   ...: True\n",
        "   ...: False\n",
        "True\n",
        "False\n",
        "\n",
        "In [2]: ## 方法（二）：用bool()函式建立。\n",
        "   ...: bool(1)\n",
        "   ...: bool(0)\n",
        "True\n",
        "False"
      ],
      "execution_count": 3,
      "outputs": [
        {
          "output_type": "execute_result",
          "data": {
            "text/plain": [
              "False"
            ]
          },
          "metadata": {
            "tags": []
          },
          "execution_count": 3
        }
      ]
    },
    {
      "cell_type": "markdown",
      "metadata": {
        "id": "Ajm2LFRP1CxU"
      },
      "source": [
        "### 1-2 建立布林值與數學運算\n",
        "\n",
        "#### 布林值可視為數值資料做數學運算"
      ]
    },
    {
      "cell_type": "code",
      "metadata": {
        "id": "eVN2_gWv1CxU"
      },
      "source": [
        "In [2]: ## True 跟數值 1 相等； False 跟數值 0 相等。\n",
        "   ...: False == 0\n",
        "   ...: True == 1\n",
        "True\n",
        "True\n",
        "\n",
        "In [3]: ## 數值運算中可以納入了布林。\n",
        "   ...: False + 3 # False為0\n",
        "   ...: True + 3 # True為1\n",
        "3\n",
        "4"
      ],
      "execution_count": null,
      "outputs": []
    },
    {
      "cell_type": "code",
      "metadata": {
        "id": "Ccj-PdhS1CxV",
        "colab": {
          "base_uri": "https://localhost:8080/"
        },
        "outputId": "ce356fc4-c7ee-4f2f-fb82-1d7528b320ff"
      },
      "source": [
        "In [2]: ## True 跟數值 1 相等； False 跟數值 0 相等。\n",
        "   ...: False == 0\n",
        "   ...: True == 1\n",
        "True\n",
        "True\n",
        "\n",
        "In [3]: ## 數值運算中可以納入了布林。\n",
        "   ...: False + 3 # False為0\n",
        "   ...: True + 3 # True為1\n",
        "3\n",
        "4"
      ],
      "execution_count": 6,
      "outputs": [
        {
          "output_type": "execute_result",
          "data": {
            "text/plain": [
              "4"
            ]
          },
          "metadata": {
            "tags": []
          },
          "execution_count": 6
        }
      ]
    },
    {
      "cell_type": "markdown",
      "metadata": {
        "id": "L8_zuVj31CxV"
      },
      "source": [
        "## 2. 關係條件比較\n",
        "\n",
        "### 2-1 布林條件判斷式"
      ]
    },
    {
      "cell_type": "code",
      "metadata": {
        "id": "kyaEGhL71CxV"
      },
      "source": [
        "In [1]: player_score = 0 # 這會把0放入變數Player_score\n",
        "   ...: player_score == 0 # 這會檢查player_Scor裡的值是否為0\n",
        "Out[1]: True\n",
        "    \n",
        "In [2]: name = \"Zoe\" # 將變數name設為值Zoe\n",
        "   ...: name == \"zoe\"\n",
        "Out[2]: False   "
      ],
      "execution_count": null,
      "outputs": []
    },
    {
      "cell_type": "code",
      "metadata": {
        "id": "-PeLdwpo4xRf"
      },
      "source": [
        "In [1]: player_score = 0 # 這會把0放入變數Player_score\n",
        "   ...: player_score == 0 # 這會檢查player_Scor裡的值是否為0\n",
        "Out[1]: True\n",
        "    \n",
        "In [2]: name = \"Zoe\" # 將變數name設為值Zoe\n",
        "   ...: name == \"zoe\"\n",
        "Out[2]: False "
      ],
      "execution_count": 9,
      "outputs": []
    },
    {
      "cell_type": "markdown",
      "metadata": {
        "id": "MRn60i_r1CxW"
      },
      "source": [
        "### 2-2 關係運算子\n",
        "\n",
        "常見的關係運算子共有六個==、!=、>、>=、<、<=。"
      ]
    },
    {
      "cell_type": "code",
      "metadata": {
        "id": "K4ngs8kH1CxW"
      },
      "source": [
        "In [1]: ## 布林（一）：比較關係運算子 = 比較運算子 = 關係運算子\n",
        "   ...: ## 比較運算子用於比較兩數的大於、小於和等於關係。\n",
        "   ...: \n",
        "   ...: print(8 == 7) # 判斷 8 是否等於 7，請注意不要混淆＝和==。\n",
        "   ...: print(8 != 7) # 判斷 8 是否不等於 7\n",
        "   ...: print(8 > 7) # 判斷 8 是否大於 7\n",
        "   ...: print(8 >= 7) # 判斷 8 是否大於等於 7\n",
        "   ...: print(8 < 7) # 判斷 8 是否小於 7\n",
        "   ...: print(8 <= 7) # 判斷 8 是否小於等於 7\n",
        "False\n",
        "True\n",
        "True\n",
        "True\n",
        "False\n",
        "False"
      ],
      "execution_count": null,
      "outputs": []
    },
    {
      "cell_type": "code",
      "metadata": {
        "id": "B6cHTsbi1CxX",
        "colab": {
          "base_uri": "https://localhost:8080/"
        },
        "outputId": "98a5395b-2f62-48ed-e5d7-69fdfa42404f"
      },
      "source": [
        "In [1]: ## 布林（一）：比較關係運算子 = 比較運算子 = 關係運算子\n",
        "   ...: ## 比較運算子用於比較兩數的大於、小於和等於關係。\n",
        "   ...: \n",
        "   ...: print(8 == 7) # 判斷 8 是否等於 7，請注意不要混淆＝和==。\n",
        "   ...: print(8 != 7) # 判斷 8 是否不等於 7\n",
        "   ...: print(8 > 7) # 判斷 8 是否大於 7\n",
        "   ...: print(8 >= 7) # 判斷 8 是否大於等於 7\n",
        "   ...: print(8 < 7) # 判斷 8 是否小於 7\n",
        "   ...: print(8 <= 7) # 判斷 8 是否小於等於 7\n",
        "False\n",
        "True\n",
        "True\n",
        "True\n",
        "False\n",
        "False"
      ],
      "execution_count": 10,
      "outputs": [
        {
          "output_type": "stream",
          "text": [
            "False\n",
            "True\n",
            "True\n",
            "True\n",
            "False\n",
            "False\n"
          ],
          "name": "stdout"
        },
        {
          "output_type": "execute_result",
          "data": {
            "text/plain": [
              "False"
            ]
          },
          "metadata": {
            "tags": []
          },
          "execution_count": 10
        }
      ]
    },
    {
      "cell_type": "code",
      "metadata": {
        "id": "8HOvlhLS1CxX"
      },
      "source": [
        "In [8]: ## 資料篩選\n",
        "   ...: ## 電腦評分是否高於8分\n",
        "   ...: \n",
        "   ...: movie_rating = 8.8\n",
        "   ...: print(movie_rating > 8.0)\n",
        "   ...: print(type(movie_rating > 8.0))\n",
        "True\n",
        "<class 'bool'>"
      ],
      "execution_count": null,
      "outputs": []
    },
    {
      "cell_type": "code",
      "metadata": {
        "id": "MqtVdR4049Fi"
      },
      "source": [
        "In [8]: ## 資料篩選\n",
        "   ...: ## 電腦評分是否高於8分\n",
        "   ...: \n",
        "   ...: movie_rating = 8.8\n",
        "   ...: print(movie_rating > 8.0)\n",
        "   ...: print(type(movie_rating > 8.0))\n",
        "True\n",
        "<class 'bool'>"
      ],
      "execution_count": null,
      "outputs": []
    },
    {
      "cell_type": "markdown",
      "metadata": {
        "id": "EkwYlD8d1CxY"
      },
      "source": [
        "**隨堂練習 1：請輸入身分證字號，並判斷尾數是否為奇數?** "
      ]
    },
    {
      "cell_type": "code",
      "metadata": {
        "id": "DZ4IYek21CxY"
      },
      "source": [
        ""
      ],
      "execution_count": null,
      "outputs": []
    },
    {
      "cell_type": "markdown",
      "metadata": {
        "id": "MBZ4AS_91CxY"
      },
      "source": [
        "## 3. 邏輯的運算\n",
        "\n",
        "### 3-2 邏輯運算子\n",
        "\n",
        "**邏輯運算子有三種運算子，and（而且）、or（或）、not（相反）。**"
      ]
    },
    {
      "cell_type": "code",
      "metadata": {
        "id": "7hp86vci1CxZ"
      },
      "source": [
        "## 三種邏輯運算子（一）:且(and)\n",
        "In [1]: print(True and False) # 判斷 True 與 False 的交集\n",
        "   ...: print(True and True)\n",
        "   ...: print(False and False)\n",
        "   ...: print(False and True)\n",
        "   ...: \n",
        "False\n",
        "True\n",
        "False\n",
        "False"
      ],
      "execution_count": null,
      "outputs": []
    },
    {
      "cell_type": "code",
      "metadata": {
        "id": "0k7FZOz31CxZ",
        "colab": {
          "base_uri": "https://localhost:8080/"
        },
        "outputId": "57b7cecb-57ec-4340-9dcf-6017cee43f9f"
      },
      "source": [
        "## 三種邏輯運算子（一）:且(and)\n",
        "In [1]: print(True and False) # 判斷 True 與 False 的交集\n",
        "   ...: print(True and True)\n",
        "   ...: print(False and False)\n",
        "   ...: print(False and True)\n",
        "   ...: \n",
        "False\n",
        "True\n",
        "False\n",
        "False"
      ],
      "execution_count": 12,
      "outputs": [
        {
          "output_type": "stream",
          "text": [
            "False\n",
            "True\n",
            "False\n",
            "False\n"
          ],
          "name": "stdout"
        },
        {
          "output_type": "execute_result",
          "data": {
            "text/plain": [
              "False"
            ]
          },
          "metadata": {
            "tags": []
          },
          "execution_count": 12
        }
      ]
    },
    {
      "cell_type": "code",
      "metadata": {
        "id": "05cID7ZP1CxZ"
      },
      "source": [
        "## 三種邏輯運算子（二）:或(or)\n",
        "In [2]: print(True or False) # 判斷 True 與 False 的聯集\n",
        "   ...: print(True or True)\n",
        "   ...: print(False or False)\n",
        "   ...: print(False or True)\n",
        "True\n",
        "True\n",
        "False\n",
        "True"
      ],
      "execution_count": null,
      "outputs": []
    },
    {
      "cell_type": "code",
      "metadata": {
        "id": "LsfENWp31Cxa",
        "colab": {
          "base_uri": "https://localhost:8080/"
        },
        "outputId": "5d80f6ae-9bad-4223-dcc6-03b57905887f"
      },
      "source": [
        "## 三種邏輯運算子（二）:或(or)\n",
        "In [2]: print(True or False) # 判斷 True 與 False 的聯集\n",
        "   ...: print(True or True)\n",
        "   ...: print(False or False)\n",
        "   ...: print(False or True)\n",
        "True\n",
        "True\n",
        "False\n",
        "True"
      ],
      "execution_count": 13,
      "outputs": [
        {
          "output_type": "stream",
          "text": [
            "True\n",
            "True\n",
            "False\n",
            "True\n"
          ],
          "name": "stdout"
        },
        {
          "output_type": "execute_result",
          "data": {
            "text/plain": [
              "True"
            ]
          },
          "metadata": {
            "tags": []
          },
          "execution_count": 13
        }
      ]
    },
    {
      "cell_type": "code",
      "metadata": {
        "id": "zDCi7IMF1Cxa"
      },
      "source": [
        "## 三種邏輯運算子（三）:非(not)。\n",
        "In [3]: print(not True) # False\n",
        "   ...: print(not False) # True\n",
        "   ...: print(not(8 > 7)) # 反轉 8 是否大於 7 的判斷\n",
        "False\n",
        "True\n",
        "False"
      ],
      "execution_count": null,
      "outputs": []
    },
    {
      "cell_type": "code",
      "metadata": {
        "id": "tz1mdHA51Cxb",
        "colab": {
          "base_uri": "https://localhost:8080/"
        },
        "outputId": "693a1673-858c-450e-8b8f-cc40e4a0bf58"
      },
      "source": [
        "## 三種邏輯運算子（三）:非(not)。\n",
        "In [3]: print(not True) # False\n",
        "   ...: print(not False) # True\n",
        "   ...: print(not(8 > 7)) # 反轉 8 是否大於 7 的判斷\n",
        "False\n",
        "True\n",
        "False"
      ],
      "execution_count": 14,
      "outputs": [
        {
          "output_type": "stream",
          "text": [
            "False\n",
            "True\n",
            "False\n"
          ],
          "name": "stdout"
        },
        {
          "output_type": "execute_result",
          "data": {
            "text/plain": [
              "False"
            ]
          },
          "metadata": {
            "tags": []
          },
          "execution_count": 14
        }
      ]
    },
    {
      "cell_type": "code",
      "metadata": {
        "id": "_tZECN5g1Cxb"
      },
      "source": [
        "In [8]: x = 70\n",
        "\n",
        "In [9]: ((x > 60) and (x < 80))\n",
        "Out[9]: True\n",
        "\n",
        "In [10]: x = 60\n",
        "\n",
        "In [11]: ((x > 60) and (x < 80))\n",
        "Out[11]: False\n",
        "\n",
        "In [12]: ((x > 60) or (x < 80))\n",
        "Out[12]: True\n",
        "\n",
        "In [13]: not(x > 60)\n",
        "Out[13]: True"
      ],
      "execution_count": null,
      "outputs": []
    },
    {
      "cell_type": "code",
      "metadata": {
        "id": "0kFocuml1Cxb"
      },
      "source": [
        "In [8]: x = 70\n",
        "\n",
        "In [9]: ((x > 60) and (x < 80))\n",
        "Out[9]: True\n",
        "\n",
        "In [10]: x = 60\n",
        "\n",
        "In [11]: ((x > 60) and (x < 80))\n",
        "Out[11]: False\n",
        "\n",
        "In [12]: ((x > 60) or (x < 80))\n",
        "Out[12]: True\n",
        "\n",
        "In [13]: not(x > 60)\n",
        "Out[13]: True"
      ],
      "execution_count": 15,
      "outputs": []
    },
    {
      "cell_type": "markdown",
      "metadata": {
        "id": "byldBvFo1Cxc"
      },
      "source": [
        "### 3-3 成員與身份運算子"
      ]
    },
    {
      "cell_type": "code",
      "metadata": {
        "id": "GcFbyZ8P1Cxc"
      },
      "source": [
        " In [1]: ## 成員運算子\n",
        "    ...: ## 文字字串\n",
        "    ...: print(\"H\" in \"Hello world\") # 判斷H是否存在於Hello world 之中\n",
        "True\n",
        "\n",
        " In [2]: ## 數字串列\n",
        "    ...: x = 1\n",
        "    ...: y = [1,2,3]\n",
        "    ...: print(x in y)\n",
        "    ...: print(x not in y)\n",
        "True\n",
        "False"
      ],
      "execution_count": null,
      "outputs": []
    },
    {
      "cell_type": "code",
      "metadata": {
        "id": "VlcOBWW_1Cxc",
        "colab": {
          "base_uri": "https://localhost:8080/"
        },
        "outputId": "2c6bd44a-018a-46be-8870-38cc668337d1"
      },
      "source": [
        " In [1]: ## 成員運算子\n",
        "    ...: ## 文字字串\n",
        "    ...: print(\"H\" in \"Hello world\") # 判斷H是否存在於Hello world 之中\n",
        "True\n",
        "\n",
        " In [2]: ## 數字串列\n",
        "    ...: x = 1\n",
        "    ...: y = [1,2,3]\n",
        "    ...: print(x in y)\n",
        "    ...: print(x not in y)\n",
        "True\n",
        "False"
      ],
      "execution_count": 16,
      "outputs": [
        {
          "output_type": "stream",
          "text": [
            "True\n",
            "True\n",
            "False\n"
          ],
          "name": "stdout"
        },
        {
          "output_type": "execute_result",
          "data": {
            "text/plain": [
              "False"
            ]
          },
          "metadata": {
            "tags": []
          },
          "execution_count": 16
        }
      ]
    },
    {
      "cell_type": "code",
      "metadata": {
        "id": "6j5qpdZU1Cxc"
      },
      "source": [
        "In [3]: x = [1,2,3]\n",
        "    ...: y = [1,2,3]\n",
        "    ...: print(id(x),id(y)) #x 與y 的位址不同\n",
        "    ...: print(x is y) #x與y在電腦有不同的記憶空間，所以x是x、y是y。\n",
        "    ...: print(x == y) # x 與y 的值相等，True\n",
        "2303536791616 2303537806912\n",
        "False\n",
        "True"
      ],
      "execution_count": null,
      "outputs": []
    },
    {
      "cell_type": "code",
      "metadata": {
        "id": "A67zoZ5w6jo5"
      },
      "source": [
        "In [3]: x = [1,2,3]\n",
        "    ...: y = [1,2,3]\n",
        "    ...: print(id(x),id(y)) #x 與y 的位址不同\n",
        "    ...: print(x is y) #x與y在電腦有不同的記憶空間，所以x是x、y是y。\n",
        "    ...: print(x == y) # x 與y 的值相等，True\n",
        "2303536791616 2303537806912\n",
        "False\n",
        "True"
      ],
      "execution_count": null,
      "outputs": []
    }
  ]
}