{
  "nbformat": 4,
  "nbformat_minor": 0,
  "metadata": {
    "colab": {
      "name": "廖晟文week4-練習作業.ipynb",
      "provenance": [],
      "toc_visible": true,
      "authorship_tag": "ABX9TyMaxrq7gzZEbwCS+mVMSUxx",
      "include_colab_link": true
    },
    "kernelspec": {
      "name": "python3",
      "display_name": "Python 3"
    }
  },
  "cells": [
    {
      "cell_type": "markdown",
      "metadata": {
        "id": "view-in-github",
        "colab_type": "text"
      },
      "source": [
        "<a href=\"https://colab.research.google.com/github/A109010073/Computational-Thinking-and-Program-Design/blob/main/%E5%BB%96%E6%99%9F%E6%96%87-week4-%E7%B7%B4%E7%BF%92%E4%BD%9C%E6%A5%AD.ipynb\" target=\"_parent\"><img src=\"https://colab.research.google.com/assets/colab-badge.svg\" alt=\"Open In Colab\"/></a>"
      ]
    },
    {
      "cell_type": "markdown",
      "metadata": {
        "id": "nJ7SdH78U4Ek"
      },
      "source": [
        "# 隨堂練習"
      ]
    },
    {
      "cell_type": "code",
      "metadata": {
        "id": "MIj333YkVCkp"
      },
      "source": [
        ""
      ],
      "execution_count": null,
      "outputs": []
    },
    {
      "cell_type": "markdown",
      "metadata": {
        "id": "OgMBTzEMVFiQ"
      },
      "source": [
        "# 課後練習"
      ]
    },
    {
      "cell_type": "markdown",
      "metadata": {
        "id": "SQ354-0eWI_z"
      },
      "source": [
        "**從一則新聞報導，提出你對新聞系（OO系）學生為什麼要學「運算思維與程式設計」的見解。（告訴我新聞連結，以及你的觀點即可。）**\r\n"
      ]
    },
    {
      "cell_type": "markdown",
      "metadata": {
        "id": "ZEUPuZD7oLsP"
      },
      "source": [
        "[連結文字]https://www.cw.com.tw/article/5080736)\r\n",
        "\r\n",
        "我的觀點:在科技與電腦軟體迅速發展的時代，學習運算思維與程式設計已是時代的潮流，不僅能為職涯工作加分，更重要的是能夠訓練人們運算處理與邏輯思考的能力。而新聞系為什麼要學「運算思維與程式設計」呢?我認為傳統的新聞媒體在時代的潮流下已經逐漸式微，新媒體將是未來的趨勢，學習運算思維與程式設計能讓我們運用電腦處理資訊，更快速的統整與傳播，達到新聞傳播的目的。"
      ]
    },
    {
      "cell_type": "code",
      "metadata": {
        "id": "3ZXklmPAoOGh"
      },
      "source": [
        ""
      ],
      "execution_count": null,
      "outputs": []
    }
  ]
}